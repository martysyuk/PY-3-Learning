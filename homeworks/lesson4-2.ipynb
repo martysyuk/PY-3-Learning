{
 "cells": [
  {
   "cell_type": "markdown",
   "metadata": {
    "collapsed": true
   },
   "source": [
    "# Домашняя работа по уроку 4.2\n",
    "### Выполнил Мартысюк Илья. группа PY-3"
   ]
  },
  {
   "cell_type": "code",
   "execution_count": 143,
   "metadata": {},
   "outputs": [],
   "source": [
    "import pandas as pd\n",
    "import matplotlib.pyplot as plt\n",
    "\n",
    "%matplotlib inline\n",
    "\n",
    "PATH = '/Users/martysyuk/Documents/Python 3 Coding/Repositorys/PY-3-Learning/homeworks/names/'\n",
    "START_YEAR = 1900\n",
    "END_YEAR = 2000\n",
    "NAMES = ['Ruth', 'Robert']\n",
    "MERGE_ON = ['Name', 'Gender']\n",
    "COLUMNS = ['Name', 'Gender', 'Count']"
   ]
  },
  {
   "cell_type": "code",
   "execution_count": 144,
   "metadata": {},
   "outputs": [],
   "source": [
    "def open_files(_names):\n",
    "    _data = dict()\n",
    "    for _year in range(START_YEAR, END_YEAR+1):\n",
    "        try:\n",
    "            _file_name = PATH + 'yob' + str(_year) + '.txt'\n",
    "            _year_data = pd.read_csv(_file_name, names=COLUMNS)\n",
    "            for _name in _names:\n",
    "                try:\n",
    "                    _data[_name].update({_year: _year_data[_year_data.Name == _name].Count.sum()})\n",
    "                except KeyError:\n",
    "                    _data.update({_name: {_year: _year_data[_year_data.Name == _name].Count.sum()}})\n",
    "        except FileNotFoundError:\n",
    "            pass\n",
    "    return _data"
   ]
  },
  {
   "cell_type": "code",
   "execution_count": 147,
   "metadata": {},
   "outputs": [],
   "source": [
    "def get_lists_by_name(_data, _name):\n",
    "    _years_list = list()\n",
    "    _data_list = list()\n",
    "    for _year in range(START_YEAR, END_YEAR+1):\n",
    "        _years_list.append(_year)\n",
    "        _data_list.append(_data[_name][_year])\n",
    "    return _years_list, _data_list"
   ]
  },
  {
   "cell_type": "code",
   "execution_count": 168,
   "metadata": {},
   "outputs": [],
   "source": [
    "def print_fig1(_data):\n",
    "    plt.xlabel('Года')\n",
    "    plt.ylabel('Рождено детей')\n",
    "    plt.grid(True)\n",
    "    for name in NAMES:\n",
    "        axis_x, axis_y = get_lists_by_name(_data, name)\n",
    "        plt.plot(axis_x, axis_y)\n",
    "    plt.legend(NAMES)"
   ]
  },
  {
   "cell_type": "code",
   "execution_count": 169,
   "metadata": {
    "collapsed": false
   },
   "outputs": [
    {
     "name": "stdout",
     "output_type": "stream",
     "text": [
      "Задание 1: Построить график изменения количества имен Ruth и Robert с 1900 по 2000\n"
     ]
    },
    {
     "data": {
      "image/png": "[encoded data removed]",
      "text/plain": [
       "<matplotlib.figure.Figure at 0x107b621d0>"
      ]
     },
     "metadata": {},
     "output_type": "display_data"
    }
   ],
   "source": [
    "data = open_files(NAMES)\n",
    "\n",
    "print('Задание 1: Построить график изменения количества имен Ruth и Robert с 1900 по 2000')\n",
    "print_fig1(data)"
   ]
  },
  {
   "cell_type": "code",
   "execution_count": null,
   "metadata": {},
   "outputs": [],
   "source": [
    ""
   ]
  }
 ],
 "metadata": {
  "kernelspec": {
   "display_name": "Python 2",
   "language": "python",
   "name": "python2"
  },
  "language_info": {
   "codemirror_mode": {
    "name": "ipython",
    "version": 2.0
   },
   "file_extension": ".py",
   "mimetype": "text/x-python",
   "name": "python",
   "nbconvert_exporter": "python",
   "pygments_lexer": "ipython2",
   "version": "2.7.6"
  }
 },
 "nbformat": 4,
 "nbformat_minor": 0
}