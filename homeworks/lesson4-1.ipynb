{
 "cells": [
  {
   "cell_type": "markdown",
   "metadata": {},
   "source": [
    "# Домашняя работа по уроку 4.1\n",
    "### Выполнил Мартысюк Илья. группа PY-3"
   ]
  },
  {
   "cell_type": "code",
   "execution_count": 7,
   "metadata": {
    "collapsed": true
   },
   "outputs": [],
   "source": [
    "import pandas as pd\n",
    "PATH = '/Users/martysyuk/Documents/Python 3 Coding/Repositorys/PY-3-Learning/homeworks/names/'\n",
    "YEARS = [1900, 1950, 2000]\n",
    "MERGE_ON = ['Name', 'Gender']\n",
    "COLUMNS = ['Name', 'Gender', 'Count']\n",
    "\n",
    "data = open_csv_files_by_year(YEARS)"
   ]
  },
  {
   "cell_type": "code",
   "execution_count": 2,
   "metadata": {},
   "outputs": [],
   "source": [
    "def open_csv_files_by_year(*args):\n",
    "    _data_ = list()\n",
    "    for year in args[0]:\n",
    "        try:\n",
    "            _file_name_ = PATH + 'yob' + str(year) + '.txt'\n",
    "            _data_.append(pd.read_csv(_file_name_, names=COLUMNS))\n",
    "        except FileNotFoundError:\n",
    "            pass\n",
    "    return _data_"
   ]
  },
  {
   "cell_type": "code",
   "execution_count": 3,
   "metadata": {},
   "outputs": [],
   "source": [
    "def count_top3(_data_):\n",
    "    names = pd.concat(_data_)\n",
    "    df = names.groupby(MERGE_ON, as_index=False).sum().sort_values(by='Count', ascending=False).head(3)\n",
    "    \n",
    "    return list(df.Name)"
   ]
  },
  {
   "cell_type": "code",
   "execution_count": 5,
   "metadata": {},
   "outputs": [],
   "source": [
    "def count_dynamics(_data_):\n",
    "    _dyn_data_ = dict()\n",
    "    male_by_years = list()\n",
    "    female_by_years = list()\n",
    "    for year in _data_:\n",
    "        male_by_years.append(year[year.Gender == 'M'].Count.sum())\n",
    "        female_by_years.append(year[year.Gender == 'F'].Count.sum())\n",
    "    _dyn_data_.update({'M': male_by_years, 'F': female_by_years})\n",
    "    \n",
    "    return _dyn_data_"
   ]
  },
  {
   "cell_type": "code",
   "execution_count": 8,
   "metadata": {},
   "outputs": [
    {
     "data": {
      "text/plain": [
       "['James', 'John', 'Robert']"
      ]
     },
     "execution_count": 8,
     "metadata": {},
     "output_type": "execute_result"
    }
   ],
   "source": [
    "count_top3(data)"
   ]
  },
  {
   "cell_type": "code",
   "execution_count": 9,
   "metadata": {},
   "outputs": [
    {
     "data": {
      "text/plain": [
       "{'F': [299822, 1713450, 1814738], 'M': [150490, 1791474, 1962556]}"
      ]
     },
     "execution_count": 9,
     "metadata": {},
     "output_type": "execute_result"
    }
   ],
   "source": [
    "count_dynamics(data)"
   ]
  }
 ],
 "metadata": {
  "kernelspec": {
   "display_name": "Python 3",
   "language": "python",
   "name": "python3"
  },
  "language_info": {
   "codemirror_mode": {
    "name": "ipython",
    "version": 3.0
   },
   "file_extension": ".py",
   "mimetype": "text/x-python",
   "name": "python",
   "nbconvert_exporter": "python",
   "pygments_lexer": "ipython3",
   "version": "3.6.0"
  }
 },
 "nbformat": 4,
 "nbformat_minor": 0
}