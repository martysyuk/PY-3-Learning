{
 "cells": [
  {
   "cell_type": "markdown",
   "metadata": {
    "collapsed": true
   },
   "source": [
    "# Выполнил Мартысюк Илья (PY-3)\n",
    "### Дата выполнения: 25 апреля 2017 \n",
    "### Время выполнения: 13:30\n",
    "\n",
    "### Ответ на 10 вопрос:\n",
    "`[x**3 for x in mass if ((x % 3 == 0) & (x % 4 == 0))]`"
   ]
  }
 ],
 "metadata": {
  "kernelspec": {
   "display_name": "Python 2",
   "language": "python",
   "name": "python2"
  },
  "language_info": {
   "codemirror_mode": {
    "name": "ipython",
    "version": 2.0
   },
   "file_extension": ".py",
   "mimetype": "text/x-python",
   "name": "python",
   "nbconvert_exporter": "python",
   "pygments_lexer": "ipython2",
   "version": "2.7.6"
  }
 },
 "nbformat": 4,
 "nbformat_minor": 0
}
